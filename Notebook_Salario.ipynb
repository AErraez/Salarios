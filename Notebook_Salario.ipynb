{
  "cells": [
    {
      "cell_type": "markdown",
      "metadata": {},
      "source": [
        "# Notebook para Modelado de Datos de Ask a Manager"
      ]
    },
    {
      "cell_type": "code",
      "execution_count": 3,
      "metadata": {
        "id": "pTK_FD6MJMjO"
      },
      "outputs": [],
      "source": [
        "import numpy as np\n",
        "import pandas as pd\n"
      ]
    },
    {
      "cell_type": "markdown",
      "metadata": {
        "id": "4mO9I5hHvhnx"
      },
      "source": [
        "Importamos los datos."
      ]
    },
    {
      "cell_type": "code",
      "execution_count": 4,
      "metadata": {
        "id": "oCx0z3QUJa91"
      },
      "outputs": [],
      "source": [
        "df=pd.read_csv(\"Ask A Manager Salary Survey 2021 (Responses) - Form Responses 1.csv\")\n"
      ]
    },
    {
      "cell_type": "markdown",
      "metadata": {
        "id": "Ynpjp_dAvj9_"
      },
      "source": [
        "Cambiamos nombres de columnas."
      ]
    },
    {
      "cell_type": "code",
      "execution_count": 5,
      "metadata": {
        "colab": {
          "base_uri": "https://localhost:8080/",
          "height": 400
        },
        "id": "E2m8KmZBJn3s",
        "outputId": "ebfa26a3-c6f0-4bb7-aaa7-174d4d10c138"
      },
      "outputs": [
        {
          "data": {
            "text/html": [
              "<div>\n",
              "<style scoped>\n",
              "    .dataframe tbody tr th:only-of-type {\n",
              "        vertical-align: middle;\n",
              "    }\n",
              "\n",
              "    .dataframe tbody tr th {\n",
              "        vertical-align: top;\n",
              "    }\n",
              "\n",
              "    .dataframe thead th {\n",
              "        text-align: right;\n",
              "    }\n",
              "</style>\n",
              "<table border=\"1\" class=\"dataframe\">\n",
              "  <thead>\n",
              "    <tr style=\"text-align: right;\">\n",
              "      <th></th>\n",
              "      <th>Timestamp</th>\n",
              "      <th>Age</th>\n",
              "      <th>Industry</th>\n",
              "      <th>Title</th>\n",
              "      <th>Salary</th>\n",
              "      <th>Add_Comp</th>\n",
              "      <th>Currency</th>\n",
              "      <th>Other_Currency</th>\n",
              "      <th>Country</th>\n",
              "      <th>State</th>\n",
              "      <th>City</th>\n",
              "      <th>Experience_OvAll</th>\n",
              "      <th>Experience_Field</th>\n",
              "      <th>Education</th>\n",
              "      <th>Gender</th>\n",
              "      <th>Race</th>\n",
              "    </tr>\n",
              "  </thead>\n",
              "  <tbody>\n",
              "    <tr>\n",
              "      <th>0</th>\n",
              "      <td>4/27/2021 11:02:10</td>\n",
              "      <td>25-34</td>\n",
              "      <td>Education (Higher Education)</td>\n",
              "      <td>Research and Instruction Librarian</td>\n",
              "      <td>55,000</td>\n",
              "      <td>0.0</td>\n",
              "      <td>USD</td>\n",
              "      <td>NaN</td>\n",
              "      <td>United States</td>\n",
              "      <td>Massachusetts</td>\n",
              "      <td>Boston</td>\n",
              "      <td>5-7 years</td>\n",
              "      <td>5-7 years</td>\n",
              "      <td>Master's degree</td>\n",
              "      <td>Woman</td>\n",
              "      <td>White</td>\n",
              "    </tr>\n",
              "    <tr>\n",
              "      <th>1</th>\n",
              "      <td>4/27/2021 11:02:22</td>\n",
              "      <td>25-34</td>\n",
              "      <td>Computing or Tech</td>\n",
              "      <td>Change &amp; Internal Communications Manager</td>\n",
              "      <td>54,600</td>\n",
              "      <td>4000.0</td>\n",
              "      <td>GBP</td>\n",
              "      <td>NaN</td>\n",
              "      <td>United Kingdom</td>\n",
              "      <td>NaN</td>\n",
              "      <td>Cambridge</td>\n",
              "      <td>8 - 10 years</td>\n",
              "      <td>5-7 years</td>\n",
              "      <td>College degree</td>\n",
              "      <td>Non-binary</td>\n",
              "      <td>White</td>\n",
              "    </tr>\n",
              "    <tr>\n",
              "      <th>2</th>\n",
              "      <td>4/27/2021 11:02:38</td>\n",
              "      <td>25-34</td>\n",
              "      <td>Accounting, Banking &amp; Finance</td>\n",
              "      <td>Marketing Specialist</td>\n",
              "      <td>34,000</td>\n",
              "      <td>NaN</td>\n",
              "      <td>USD</td>\n",
              "      <td>NaN</td>\n",
              "      <td>US</td>\n",
              "      <td>Tennessee</td>\n",
              "      <td>Chattanooga</td>\n",
              "      <td>2 - 4 years</td>\n",
              "      <td>2 - 4 years</td>\n",
              "      <td>College degree</td>\n",
              "      <td>Woman</td>\n",
              "      <td>White</td>\n",
              "    </tr>\n",
              "    <tr>\n",
              "      <th>3</th>\n",
              "      <td>4/27/2021 11:02:41</td>\n",
              "      <td>25-34</td>\n",
              "      <td>Nonprofits</td>\n",
              "      <td>Program Manager</td>\n",
              "      <td>62,000</td>\n",
              "      <td>3000.0</td>\n",
              "      <td>USD</td>\n",
              "      <td>NaN</td>\n",
              "      <td>USA</td>\n",
              "      <td>Wisconsin</td>\n",
              "      <td>Milwaukee</td>\n",
              "      <td>8 - 10 years</td>\n",
              "      <td>5-7 years</td>\n",
              "      <td>College degree</td>\n",
              "      <td>Woman</td>\n",
              "      <td>White</td>\n",
              "    </tr>\n",
              "    <tr>\n",
              "      <th>4</th>\n",
              "      <td>4/27/2021 11:02:42</td>\n",
              "      <td>25-34</td>\n",
              "      <td>Accounting, Banking &amp; Finance</td>\n",
              "      <td>Accounting Manager</td>\n",
              "      <td>60,000</td>\n",
              "      <td>7000.0</td>\n",
              "      <td>USD</td>\n",
              "      <td>NaN</td>\n",
              "      <td>US</td>\n",
              "      <td>South Carolina</td>\n",
              "      <td>Greenville</td>\n",
              "      <td>8 - 10 years</td>\n",
              "      <td>5-7 years</td>\n",
              "      <td>College degree</td>\n",
              "      <td>Woman</td>\n",
              "      <td>White</td>\n",
              "    </tr>\n",
              "  </tbody>\n",
              "</table>\n",
              "</div>"
            ],
            "text/plain": [
              "            Timestamp    Age                       Industry  \\\n",
              "0  4/27/2021 11:02:10  25-34   Education (Higher Education)   \n",
              "1  4/27/2021 11:02:22  25-34              Computing or Tech   \n",
              "2  4/27/2021 11:02:38  25-34  Accounting, Banking & Finance   \n",
              "3  4/27/2021 11:02:41  25-34                     Nonprofits   \n",
              "4  4/27/2021 11:02:42  25-34  Accounting, Banking & Finance   \n",
              "\n",
              "                                      Title  Salary  Add_Comp Currency  \\\n",
              "0        Research and Instruction Librarian  55,000       0.0      USD   \n",
              "1  Change & Internal Communications Manager  54,600    4000.0      GBP   \n",
              "2                      Marketing Specialist  34,000       NaN      USD   \n",
              "3                           Program Manager  62,000    3000.0      USD   \n",
              "4                        Accounting Manager  60,000    7000.0      USD   \n",
              "\n",
              "  Other_Currency         Country           State         City  \\\n",
              "0            NaN   United States   Massachusetts       Boston   \n",
              "1            NaN  United Kingdom             NaN    Cambridge   \n",
              "2            NaN              US       Tennessee  Chattanooga   \n",
              "3            NaN             USA       Wisconsin    Milwaukee   \n",
              "4            NaN              US  South Carolina   Greenville   \n",
              "\n",
              "  Experience_OvAll Experience_Field        Education      Gender   Race  \n",
              "0        5-7 years        5-7 years  Master's degree       Woman  White  \n",
              "1     8 - 10 years        5-7 years   College degree  Non-binary  White  \n",
              "2      2 - 4 years      2 - 4 years   College degree       Woman  White  \n",
              "3     8 - 10 years        5-7 years   College degree       Woman  White  \n",
              "4     8 - 10 years        5-7 years   College degree       Woman  White  "
            ]
          },
          "execution_count": 5,
          "metadata": {},
          "output_type": "execute_result"
        }
      ],
      "source": [
        "df.drop(df.columns[[4,9]],axis=1,inplace=True)\n",
        "df.columns=[\"Timestamp\",\"Age\",\"Industry\",\"Title\",\"Salary\",\"Add_Comp\",\"Currency\",\"Other_Currency\",\"Country\",\"State\",\"City\",\"Experience_OvAll\",\"Experience_Field\",\"Education\",\"Gender\",\"Race\"]\n",
        "df.head()"
      ]
    },
    {
      "cell_type": "markdown",
      "metadata": {
        "id": "oH6G_iURvurI"
      },
      "source": [
        "Establecemos el salario como float."
      ]
    },
    {
      "cell_type": "code",
      "execution_count": 6,
      "metadata": {
        "colab": {
          "base_uri": "https://localhost:8080/",
          "height": 586
        },
        "id": "ha9a9yPlMBO1",
        "outputId": "e62dff4d-f3b5-4344-b15b-c8a748b2e312"
      },
      "outputs": [
        {
          "data": {
            "text/plain": [
              "Timestamp            object\n",
              "Age                  object\n",
              "Industry             object\n",
              "Title                object\n",
              "Salary              float64\n",
              "Add_Comp            float64\n",
              "Currency             object\n",
              "Other_Currency       object\n",
              "Country              object\n",
              "State                object\n",
              "City                 object\n",
              "Experience_OvAll     object\n",
              "Experience_Field     object\n",
              "Education            object\n",
              "Gender               object\n",
              "Race                 object\n",
              "dtype: object"
            ]
          },
          "execution_count": 6,
          "metadata": {},
          "output_type": "execute_result"
        }
      ],
      "source": [
        "df[\"Salary\"]=df[\"Salary\"].map(lambda x: x.replace(\",\",\"\"))\n",
        "df[\"Salary\"]=df[\"Salary\"].astype(float)\n",
        "df.dtypes"
      ]
    },
    {
      "cell_type": "markdown",
      "metadata": {
        "id": "FCuOp-pnv9ms"
      },
      "source": [
        "Revisamos Industrias más comunes."
      ]
    },
    {
      "cell_type": "code",
      "execution_count": 7,
      "metadata": {
        "colab": {
          "base_uri": "https://localhost:8080/",
          "height": 954
        },
        "id": "7XtvqGUSVZBW",
        "outputId": "982cfcb7-5cb4-40bd-8256-a860e2601567"
      },
      "outputs": [
        {
          "name": "stderr",
          "output_type": "stream",
          "text": [
            "C:\\Users\\ariel\\AppData\\Local\\Temp\\ipykernel_25028\\2571092177.py:1: FutureWarning: pandas.value_counts is deprecated and will be removed in a future version. Use pd.Series(obj).value_counts() instead.\n",
            "  pd.value_counts(df['Industry'])[:25]\n"
          ]
        },
        {
          "data": {
            "text/plain": [
              "Industry\n",
              "Computing or Tech                       4712\n",
              "Education (Higher Education)            2466\n",
              "Nonprofits                              2420\n",
              "Health care                             1899\n",
              "Government and Public Administration    1893\n",
              "Accounting, Banking & Finance           1812\n",
              "Engineering or Manufacturing            1700\n",
              "Marketing, Advertising & PR             1136\n",
              "Law                                     1097\n",
              "Business or Consulting                   853\n",
              "Education (Primary/Secondary)            838\n",
              "Media & Digital                          774\n",
              "Insurance                                532\n",
              "Retail                                   505\n",
              "Recruitment or HR                        460\n",
              "Property or Construction                 387\n",
              "Art & Design                             359\n",
              "Utilities & Telecommunications           357\n",
              "Transport or Logistics                   304\n",
              "Sales                                    286\n",
              "Social Work                              274\n",
              "Hospitality & Events                     262\n",
              "Entertainment                            254\n",
              "Agriculture or Forestry                  138\n",
              "Leisure, Sport & Tourism                  99\n",
              "Name: count, dtype: int64"
            ]
          },
          "execution_count": 7,
          "metadata": {},
          "output_type": "execute_result"
        }
      ],
      "source": [
        "pd.value_counts(df['Industry'])[:25]"
      ]
    },
    {
      "cell_type": "markdown",
      "metadata": {
        "id": "fYR0FSaYwBps"
      },
      "source": [
        "Nos quedamos con las 25 más comunes, al resto las asignamos como otro."
      ]
    },
    {
      "cell_type": "code",
      "execution_count": 8,
      "metadata": {
        "colab": {
          "base_uri": "https://localhost:8080/",
          "height": 1000
        },
        "id": "iWxEilPAVa-m",
        "outputId": "60989200-c71c-4dfb-d59e-09d343f664dc"
      },
      "outputs": [
        {
          "name": "stderr",
          "output_type": "stream",
          "text": [
            "C:\\Users\\ariel\\AppData\\Local\\Temp\\ipykernel_25028\\3345005259.py:1: FutureWarning: pandas.value_counts is deprecated and will be removed in a future version. Use pd.Series(obj).value_counts() instead.\n",
            "  inds=pd.value_counts(df['Industry'])[:25].index.to_list()\n"
          ]
        }
      ],
      "source": [
        "inds=pd.value_counts(df['Industry'])[:25].index.to_list()\n",
        "\n",
        "df.loc[~df['Industry'].isin(inds),'Industry']='Other'"
      ]
    },
    {
      "cell_type": "code",
      "execution_count": 9,
      "metadata": {
        "colab": {
          "base_uri": "https://localhost:8080/"
        },
        "id": "crRaZQJ82uPN",
        "outputId": "cd56da0f-c4ec-42a5-9e2c-4a03249269b6"
      },
      "outputs": [
        {
          "name": "stdout",
          "output_type": "stream",
          "text": [
            "Collecting unidecode\n",
            "  Downloading Unidecode-1.3.8-py3-none-any.whl.metadata (13 kB)\n",
            "Downloading Unidecode-1.3.8-py3-none-any.whl (235 kB)\n",
            "Installing collected packages: unidecode\n",
            "Successfully installed unidecode-1.3.8\n"
          ]
        },
        {
          "name": "stderr",
          "output_type": "stream",
          "text": [
            "\n",
            "[notice] A new release of pip is available: 24.2 -> 25.0.1\n",
            "[notice] To update, run: python.exe -m pip install --upgrade pip\n"
          ]
        },
        {
          "name": "stdout",
          "output_type": "stream",
          "text": [
            "Collecting country_list\n",
            "  Downloading country_list-1.1.0-py3-none-any.whl.metadata (3.9 kB)\n",
            "Downloading country_list-1.1.0-py3-none-any.whl (1.5 MB)\n",
            "   ---------------------------------------- 0.0/1.5 MB ? eta -:--:--\n",
            "   ---------------------------------------- 1.5/1.5 MB 11.6 MB/s eta 0:00:00\n",
            "Installing collected packages: country_list\n",
            "Successfully installed country_list-1.1.0\n"
          ]
        },
        {
          "name": "stderr",
          "output_type": "stream",
          "text": [
            "\n",
            "[notice] A new release of pip is available: 24.2 -> 25.0.1\n",
            "[notice] To update, run: python.exe -m pip install --upgrade pip\n"
          ]
        }
      ],
      "source": [
        "!pip install unidecode\n",
        "!pip install country_list"
      ]
    },
    {
      "cell_type": "markdown",
      "metadata": {
        "id": "mt-EO8W_wI2G"
      },
      "source": [
        "Formateamos nombres de los países, revisando los caracteres de cada observación y ajustando por errores de tipeo. Los nombres de los países deben ser iguales a los disponiles en la librería country_list."
      ]
    },
    {
      "cell_type": "code",
      "execution_count": 10,
      "metadata": {
        "colab": {
          "base_uri": "https://localhost:8080/"
        },
        "id": "ahsVdBc5Nefc",
        "outputId": "f17527b1-9c56-4e28-8c7b-7b3865da8960"
      },
      "outputs": [],
      "source": [
        "from unidecode import unidecode\n",
        "\n",
        "df.Country=df.Country.str.strip()\n",
        "df.City=df.City.str.strip()\n",
        "df[\"Country\"]=df[\"Country\"].map(lambda x: unidecode(x.replace(x[0],x[0].upper())))\n",
        "\n",
        "us_typos=[\"I.S.\",\"JERSEY\",\"CALIFORNIA\",\"UNITED Y\",\"SAN FRANCISCO\",\"UA\",\"USAT\",\"UNITED STTES\",\"UNITED STARES\",\"U.SA\",\"🇺🇸\",\"UNITED STATSS\",\"UNITED STATUES\",\"IS\",\"U. S\",\"U.A.\",\"UNITED STATUS\",\"UNITED STATTES\",\"UNITED SATES\",\"UNITES STATES\",\"UNITED STATWS\",'ISA',\"U. S.\",\"U.S\",\"U.S.A\",\"UNITED STATE\",\"UNITED STATES\",\"US\",\"USA\",\"U.S.\",\"U.S>\",\"U.S.A.\",\"AMERICA\",\"UNITED STATES OF AMERICA\",\"THE UNITED STATES\",\"UNITED STATE OF AMERICA\",\"UNITED STATED\",\"UNITED SATES OF AMERICA\"]\n",
        "uk_typos=[\"UK\",\"ENGLAND\",\"WALES\",\"NORTHERN IRELAND\",\"U.K.\",\"UNITED KINDOM\",\"U.K\",\"ENGLANG\",\"GREAT BRITAIN\",\"LONDON\",\"BRITAIN\",\"UNITES KINGDOM\",\"SCOTLAND\"]\n",
        "czk_typos=[\"CZECHIA\",\"CESKA REPUBLIKA\"]\n",
        "\n",
        "\n",
        "df[\"Country\"]=df[\"Country\"].map(lambda x: \"United States\" if x.upper() in us_typos or \"UNITED STATES\" in x.upper() or \"STATE\" in x.upper() or \"US\" in x else x)\n",
        "df[\"Country\"]=df[\"Country\"].map(lambda x: \"United Kingdom\" if x.upper() in uk_typos or \"UNITED KINGDOM\" in x.upper() or \"UK\" in x or \"ENGLAND\" in x.upper() else x)\n",
        "df[\"Country\"]=df[\"Country\"].map(lambda x: \"Netherlands\" if \"NETHER\" in x.upper() or \"NEDER\" in x.upper() else x)\n",
        "df[\"Country\"]=df[\"Country\"].map(lambda x: \"New Zealand\" if \"ZEALAND\" in x.upper() or x.upper() in \"NZ\" else x)\n",
        "df[\"Country\"]=df[\"Country\"].map(lambda x: \"Canada\" if \"CAN\" in x.upper() or \"CSNADA\" in x.upper() else x)\n",
        "df[\"Country\"]=df[\"Country\"].map(lambda x: \"Australia\" if \"AUSTRAL\" in x.upper() else x)\n",
        "df[\"Country\"]=df[\"Country\"].map(lambda x: \"Czechia\" if \"CZECH REPUBLIC\" in x.upper() or x.upper()in czk_typos else x)\n",
        "df[\"Country\"]=df[\"Country\"].map(lambda x: \"Philippines\" if \"PHILIP\" in x.upper() else x)\n",
        "df[\"Country\"]=df[\"Country\"].map(lambda x: \"India\" if \"INDIA\" in x.upper() or \"IBDIA\" in x.upper() else x)\n",
        "df[\"Country\"]=df[\"Country\"].map(lambda x: \"Italy\" if \"ITAL\" in x.upper()  else x)\n",
        "df[\"Country\"]=df[\"Country\"].map(lambda x: \"China\" if \"HONG\" in x.upper()  else x)\n",
        "df[\"Country\"]=df[\"Country\"].map(lambda x: \"France\" if \"FRANCE\" in x.upper()  else x)\n",
        "df[\"Country\"]=df[\"Country\"].map(lambda x: \"Switzerland\" if \"SWITZERLAND\" in x.upper()  else x)\n",
        "df[\"Country\"]=df[\"Country\"].map(lambda x: \"Nigeria\" if \"NIGERIA\" in x.upper()  else x)\n",
        "df[\"Country\"]=df[\"Country\"].map(lambda x: \"Luxembourg\" if \"LUXEM\" in x.upper()  else x)\n",
        "df[\"Country\"]=df[\"Country\"].map(lambda x: \"China\" if \"CHINA\" in x.upper()  else x)\n",
        "df[\"Country\"]=df[\"Country\"].map(lambda x: \"Brazil\" if \"BRAZIL\" in x.upper() or \"BRASIL\" in x.upper()  else x)\n",
        "df[\"Country\"]=df[\"Country\"].map(lambda x: \"United Arab Emirates\" if \"UNITED ARAB EMIRATES\" in x.upper() or  x.upper() in \"UAE\" else x)\n",
        "df[\"Country\"]=df[\"Country\"].map(lambda x: \"Côte d’Ivoire\" if \"COTE D'IVOIRE\" in x.upper()  else x)\n",
        "df[\"Country\"]=df[\"Country\"].map(lambda x: \"Bahamas\" if \"BAHAMAS\" in x.upper()  else x)\n",
        "df[\"Country\"]=df[\"Country\"].map(lambda x: \"Trinidad & Tobago\" if \"TRINIDAD\" in x.upper()  else x)\n",
        "df[\"Country\"]=df[\"Country\"].map(lambda x: \"Bosnia & Herzegovina\" if \"BOSNIA\" in x.upper()  else x)\n",
        "df[\"Country\"]=df[\"Country\"].map(lambda x: \"Myanmar (Burma)\" if \"MYANMAR\" in x.upper() or \"BURMA\" in x.upper()  else x)\n",
        "df[\"Country\"]=df[\"Country\"].map(lambda x: \"Sri Lanka\" if \"SRI LANKA\" in x.upper() else x)\n",
        "df[\"Country\"]=df[\"Country\"].map(lambda x: \"South Africa\" if \"SOUTH AFRICA\" in x.upper() else x)\n",
        "df[\"Country\"]=df[\"Country\"].map(lambda x: \"Congo - Kinshasa\" if \"CONGO\" in x.upper() else x)\n",
        "df[\"Country\"]=df[\"Country\"].map(lambda x: \"Denmark\" if \"DENMARK\" in x.upper() or \"DANMARK\" in x.upper() else x)\n",
        "df[\"Country\"]=df[\"Country\"].map(lambda x: \"Spain\" if \"CATALONIA\" in x.upper() else x)\n"
      ]
    },
    {
      "cell_type": "markdown",
      "metadata": {
        "id": "mqg9tVrrwOun"
      },
      "source": [
        "Revisamos valores que el código considera como no países.\n",
        "\n",
        "En caso que exista un país entre estos datos, modificar la celda anterior para que sea considerado como tal."
      ]
    },
    {
      "cell_type": "code",
      "execution_count": 11,
      "metadata": {
        "colab": {
          "base_uri": "https://localhost:8080/"
        },
        "id": "__VEAw1et0eD",
        "outputId": "679229d7-56f1-4706-96f2-223307b7dc07"
      },
      "outputs": [
        {
          "name": "stdout",
          "output_type": "stream",
          "text": [
            "Contracts\n",
            "We don't get raises, we get quarterly bonuses, but they periodically asses income in the area you work, so I got a raise because a 3rd party assessment showed I was paid too little for the area we were located\n",
            "Global\n",
            "Currently finance\n",
            "UXZ\n",
            "$2,175.84/year is deducted for benefits\n",
            "Jersey, Channel islands\n",
            "Virginia\n",
            "Hartford\n",
            "Remote\n",
            "NL\n",
            "Bonus Based on meeting yearly goals set w/ my supervisor\n",
            "International\n",
            "I earn commission on sales. If I meet quota, I'm guaranteed another 16k min. Last year i earned an additional 27k. It's not uncommon for people in my space to earn 100k+ after commission.\n",
            "Austria, but I work remotely for a Dutch/British company\n",
            "I was brought in on this salary to help with the EHR and very quickly was promoted to current position but compensation was not altered.\n",
            "N/a (remote from wherever I waNt)\n",
            "Africa\n",
            "Y\n",
            "EuropE\n",
            "ARGENTINA BUT MY ORG IS IN THAILAND\n",
            "Na\n",
            "Policy\n",
            "Company in Germany. I work from Pakistan.\n",
            "SS\n",
            "Dbfemf\n",
            "LOUTRELAND\n",
            "FF\n"
          ]
        }
      ],
      "source": [
        "not_countries={}\n",
        "from country_list import countries_for_language\n",
        "countries=[country for code, country in countries_for_language('en')]\n",
        "for elem in df.Country.unique():\n",
        "  if elem not in countries:\n",
        "    not_countries[elem]=\"Null\"\n",
        "    print(elem)"
      ]
    },
    {
      "cell_type": "code",
      "execution_count": null,
      "metadata": {},
      "outputs": [],
      "source": [
        "# Ejecutar esta línea si se desea observar los nombres de los países reconocidos.\n",
        "#print(countries)"
      ]
    },
    {
      "cell_type": "code",
      "execution_count": 12,
      "metadata": {
        "colab": {
          "base_uri": "https://localhost:8080/",
          "height": 400
        },
        "id": "UTW9RWod3Dqd",
        "outputId": "454f12fb-979e-4d31-97ae-28a4ccfb29fc"
      },
      "outputs": [
        {
          "data": {
            "text/html": [
              "<div>\n",
              "<style scoped>\n",
              "    .dataframe tbody tr th:only-of-type {\n",
              "        vertical-align: middle;\n",
              "    }\n",
              "\n",
              "    .dataframe tbody tr th {\n",
              "        vertical-align: top;\n",
              "    }\n",
              "\n",
              "    .dataframe thead th {\n",
              "        text-align: right;\n",
              "    }\n",
              "</style>\n",
              "<table border=\"1\" class=\"dataframe\">\n",
              "  <thead>\n",
              "    <tr style=\"text-align: right;\">\n",
              "      <th></th>\n",
              "      <th>Timestamp</th>\n",
              "      <th>Age</th>\n",
              "      <th>Industry</th>\n",
              "      <th>Title</th>\n",
              "      <th>Salary</th>\n",
              "      <th>Add_Comp</th>\n",
              "      <th>Currency</th>\n",
              "      <th>Other_Currency</th>\n",
              "      <th>Country</th>\n",
              "      <th>State</th>\n",
              "      <th>City</th>\n",
              "      <th>Experience_OvAll</th>\n",
              "      <th>Experience_Field</th>\n",
              "      <th>Education</th>\n",
              "      <th>Gender</th>\n",
              "      <th>Race</th>\n",
              "    </tr>\n",
              "  </thead>\n",
              "  <tbody>\n",
              "    <tr>\n",
              "      <th>0</th>\n",
              "      <td>4/27/2021 11:02:10</td>\n",
              "      <td>25-34</td>\n",
              "      <td>Education (Higher Education)</td>\n",
              "      <td>Research and Instruction Librarian</td>\n",
              "      <td>55000.0</td>\n",
              "      <td>0.0</td>\n",
              "      <td>USD</td>\n",
              "      <td>NaN</td>\n",
              "      <td>United States</td>\n",
              "      <td>Massachusetts</td>\n",
              "      <td>Boston</td>\n",
              "      <td>5-7 years</td>\n",
              "      <td>5-7 years</td>\n",
              "      <td>Master's degree</td>\n",
              "      <td>Woman</td>\n",
              "      <td>White</td>\n",
              "    </tr>\n",
              "    <tr>\n",
              "      <th>1</th>\n",
              "      <td>4/27/2021 11:02:22</td>\n",
              "      <td>25-34</td>\n",
              "      <td>Computing or Tech</td>\n",
              "      <td>Change &amp; Internal Communications Manager</td>\n",
              "      <td>54600.0</td>\n",
              "      <td>4000.0</td>\n",
              "      <td>GBP</td>\n",
              "      <td>NaN</td>\n",
              "      <td>United Kingdom</td>\n",
              "      <td>NaN</td>\n",
              "      <td>Cambridge</td>\n",
              "      <td>8 - 10 years</td>\n",
              "      <td>5-7 years</td>\n",
              "      <td>College degree</td>\n",
              "      <td>Non-binary</td>\n",
              "      <td>White</td>\n",
              "    </tr>\n",
              "    <tr>\n",
              "      <th>2</th>\n",
              "      <td>4/27/2021 11:02:38</td>\n",
              "      <td>25-34</td>\n",
              "      <td>Accounting, Banking &amp; Finance</td>\n",
              "      <td>Marketing Specialist</td>\n",
              "      <td>34000.0</td>\n",
              "      <td>NaN</td>\n",
              "      <td>USD</td>\n",
              "      <td>NaN</td>\n",
              "      <td>United States</td>\n",
              "      <td>Tennessee</td>\n",
              "      <td>Chattanooga</td>\n",
              "      <td>2 - 4 years</td>\n",
              "      <td>2 - 4 years</td>\n",
              "      <td>College degree</td>\n",
              "      <td>Woman</td>\n",
              "      <td>White</td>\n",
              "    </tr>\n",
              "    <tr>\n",
              "      <th>3</th>\n",
              "      <td>4/27/2021 11:02:41</td>\n",
              "      <td>25-34</td>\n",
              "      <td>Nonprofits</td>\n",
              "      <td>Program Manager</td>\n",
              "      <td>62000.0</td>\n",
              "      <td>3000.0</td>\n",
              "      <td>USD</td>\n",
              "      <td>NaN</td>\n",
              "      <td>United States</td>\n",
              "      <td>Wisconsin</td>\n",
              "      <td>Milwaukee</td>\n",
              "      <td>8 - 10 years</td>\n",
              "      <td>5-7 years</td>\n",
              "      <td>College degree</td>\n",
              "      <td>Woman</td>\n",
              "      <td>White</td>\n",
              "    </tr>\n",
              "    <tr>\n",
              "      <th>4</th>\n",
              "      <td>4/27/2021 11:02:42</td>\n",
              "      <td>25-34</td>\n",
              "      <td>Accounting, Banking &amp; Finance</td>\n",
              "      <td>Accounting Manager</td>\n",
              "      <td>60000.0</td>\n",
              "      <td>7000.0</td>\n",
              "      <td>USD</td>\n",
              "      <td>NaN</td>\n",
              "      <td>United States</td>\n",
              "      <td>South Carolina</td>\n",
              "      <td>Greenville</td>\n",
              "      <td>8 - 10 years</td>\n",
              "      <td>5-7 years</td>\n",
              "      <td>College degree</td>\n",
              "      <td>Woman</td>\n",
              "      <td>White</td>\n",
              "    </tr>\n",
              "  </tbody>\n",
              "</table>\n",
              "</div>"
            ],
            "text/plain": [
              "            Timestamp    Age                       Industry  \\\n",
              "0  4/27/2021 11:02:10  25-34   Education (Higher Education)   \n",
              "1  4/27/2021 11:02:22  25-34              Computing or Tech   \n",
              "2  4/27/2021 11:02:38  25-34  Accounting, Banking & Finance   \n",
              "3  4/27/2021 11:02:41  25-34                     Nonprofits   \n",
              "4  4/27/2021 11:02:42  25-34  Accounting, Banking & Finance   \n",
              "\n",
              "                                      Title   Salary  Add_Comp Currency  \\\n",
              "0        Research and Instruction Librarian  55000.0       0.0      USD   \n",
              "1  Change & Internal Communications Manager  54600.0    4000.0      GBP   \n",
              "2                      Marketing Specialist  34000.0       NaN      USD   \n",
              "3                           Program Manager  62000.0    3000.0      USD   \n",
              "4                        Accounting Manager  60000.0    7000.0      USD   \n",
              "\n",
              "  Other_Currency         Country           State         City  \\\n",
              "0            NaN   United States   Massachusetts       Boston   \n",
              "1            NaN  United Kingdom             NaN    Cambridge   \n",
              "2            NaN   United States       Tennessee  Chattanooga   \n",
              "3            NaN   United States       Wisconsin    Milwaukee   \n",
              "4            NaN   United States  South Carolina   Greenville   \n",
              "\n",
              "  Experience_OvAll Experience_Field        Education      Gender   Race  \n",
              "0        5-7 years        5-7 years  Master's degree       Woman  White  \n",
              "1     8 - 10 years        5-7 years   College degree  Non-binary  White  \n",
              "2      2 - 4 years      2 - 4 years   College degree       Woman  White  \n",
              "3     8 - 10 years        5-7 years   College degree       Woman  White  \n",
              "4     8 - 10 years        5-7 years   College degree       Woman  White  "
            ]
          },
          "execution_count": 12,
          "metadata": {},
          "output_type": "execute_result"
        }
      ],
      "source": [
        "df[\"Country\"]=df[\"Country\"].map(lambda x: not_countries.get(x,x))\n",
        "df.head()\n"
      ]
    },
    {
      "cell_type": "markdown",
      "metadata": {
        "id": "qzxZeP8Mwgwi"
      },
      "source": [
        "Obtenemos la tasa de intercambio del COP a través de la API."
      ]
    },
    {
      "cell_type": "code",
      "execution_count": 13,
      "metadata": {
        "id": "bmxqbTTM3IwS"
      },
      "outputs": [],
      "source": [
        "link='https://cdn.jsdelivr.net/npm/@fawazahmed0/currency-api@latest/v1/currencies/cop.json'\n",
        "import requests\n",
        "import json\n",
        "\n",
        "api=requests.get(link).json()\n"
      ]
    },
    {
      "cell_type": "markdown",
      "metadata": {
        "id": "RTo5m-oIwnkX"
      },
      "source": [
        "Limpiamos la moneda AUD/NZD."
      ]
    },
    {
      "cell_type": "code",
      "execution_count": 14,
      "metadata": {
        "id": "WubVXYaC-paQ"
      },
      "outputs": [],
      "source": [
        "df.loc[df['Country']=='Australia','Currency']='AUD'\n",
        "df.loc[df['Country']=='New Zealand','Currency']='NZD'\n",
        "df.loc[df['Currency']=='AUD/NZD','Currency']='OTHER'"
      ]
    },
    {
      "cell_type": "markdown",
      "metadata": {
        "id": "6GRUrKW4wuUQ"
      },
      "source": [
        "Creamos una columna con las tasa de intercambio y obtenemos los salarios en COP multiplicando la columna de salario por la de tasa de intercambio.\n",
        "\n",
        "Adicional, creamos una columna para representar el salario total en COP."
      ]
    },
    {
      "cell_type": "code",
      "execution_count": 15,
      "metadata": {
        "id": "Dm9Gn1L277f-"
      },
      "outputs": [],
      "source": [
        "api_rates=api['cop']\n",
        "\n",
        "dic_rates={}\n",
        "for currency in df.Currency.unique():\n",
        "  if currency.lower()!='other':\n",
        "   dic_rates[currency]=1/api_rates[currency.lower()]\n",
        "\n",
        "df['EXC/COP']=df.Currency.map(lambda x: dic_rates.get(x,np.nan))\n",
        "df['COP_Salary']=df.Salary*df['EXC/COP']\n",
        "df['COP_Comp']=df.Add_Comp*df['EXC/COP']\n",
        "df['COP_Tot']=df['COP_Salary'].fillna(0.0)+df['COP_Comp'].fillna(0.0)\n",
        "df['COP_Tot']=df['COP_Tot'].replace(0.0,np.nan)"
      ]
    },
    {
      "cell_type": "markdown",
      "metadata": {
        "id": "blH_BYVlxCCK"
      },
      "source": [
        "Eliminamos los valores atípicos en el salario."
      ]
    },
    {
      "cell_type": "code",
      "execution_count": 16,
      "metadata": {
        "id": "Ce2rUWS6HlnH"
      },
      "outputs": [],
      "source": [
        "q1=df['COP_Tot'].quantile(0.25)\n",
        "q3=df['COP_Tot'].quantile(0.75)\n",
        "iqr=q3-q1\n",
        "\n",
        "lower_bound = q1 - 2 * iqr\n",
        "upper_bound = q3 + 2 * iqr\n",
        "\n",
        "df_clean= df[(df['COP_Tot'] >= lower_bound) & (df['COP_Tot'] <= upper_bound)]"
      ]
    },
    {
      "cell_type": "code",
      "execution_count": 21,
      "metadata": {
        "colab": {
          "base_uri": "https://localhost:8080/",
          "height": 445
        },
        "id": "jreCillkvSdo",
        "outputId": "337af42c-4f37-4ec7-9e59-d1c1a971e1ee"
      },
      "outputs": [
        {
          "data": {
            "image/png": "[encoded data removed]",
            "text/plain": [
              "<Figure size 640x480 with 1 Axes>"
            ]
          },
          "metadata": {},
          "output_type": "display_data"
        }
      ],
      "source": [
        "import matplotlib.pyplot as plt\n",
        "\n",
        "plt.boxplot(df_clean['COP_Tot'])\n",
        "plt.ylabel(\"Salario en COP\")\n",
        "plt.title(\"Distribución del Salario en COP\")\n",
        "plt.show()"
      ]
    },
    {
      "cell_type": "code",
      "execution_count": 18,
      "metadata": {
        "colab": {
          "base_uri": "https://localhost:8080/",
          "height": 335
        },
        "id": "aMSXIUIgFaVe",
        "outputId": "5195dbc1-0f07-4366-9fc9-6a36687e6c0e"
      },
      "outputs": [
        {
          "data": {
            "text/plain": [
              "count    2.682800e+04\n",
              "mean     3.471203e+08\n",
              "std      1.763230e+08\n",
              "min      1.119481e+04\n",
              "25%      2.184509e+08\n",
              "50%      3.065428e+08\n",
              "75%      4.369019e+08\n",
              "max      9.459338e+08\n",
              "Name: COP_Tot, dtype: float64"
            ]
          },
          "execution_count": 18,
          "metadata": {},
          "output_type": "execute_result"
        }
      ],
      "source": [
        "df_clean['COP_Tot'].describe()"
      ]
    },
    {
      "cell_type": "markdown",
      "metadata": {
        "id": "5Cjrk1-VxI6j"
      },
      "source": [
        "Variables de la base final."
      ]
    },
    {
      "cell_type": "code",
      "execution_count": 19,
      "metadata": {
        "colab": {
          "base_uri": "https://localhost:8080/",
          "height": 400
        },
        "id": "eiOhVCiwE8im",
        "outputId": "b8145f40-6a4b-4514-f804-d35efa14370d"
      },
      "outputs": [
        {
          "data": {
            "text/html": [
              "<div>\n",
              "<style scoped>\n",
              "    .dataframe tbody tr th:only-of-type {\n",
              "        vertical-align: middle;\n",
              "    }\n",
              "\n",
              "    .dataframe tbody tr th {\n",
              "        vertical-align: top;\n",
              "    }\n",
              "\n",
              "    .dataframe thead th {\n",
              "        text-align: right;\n",
              "    }\n",
              "</style>\n",
              "<table border=\"1\" class=\"dataframe\">\n",
              "  <thead>\n",
              "    <tr style=\"text-align: right;\">\n",
              "      <th></th>\n",
              "      <th>Timestamp</th>\n",
              "      <th>Age</th>\n",
              "      <th>Industry</th>\n",
              "      <th>Title</th>\n",
              "      <th>Salary</th>\n",
              "      <th>Add_Comp</th>\n",
              "      <th>Currency</th>\n",
              "      <th>Other_Currency</th>\n",
              "      <th>Country</th>\n",
              "      <th>State</th>\n",
              "      <th>City</th>\n",
              "      <th>Experience_OvAll</th>\n",
              "      <th>Experience_Field</th>\n",
              "      <th>Education</th>\n",
              "      <th>Gender</th>\n",
              "      <th>Race</th>\n",
              "      <th>EXC/COP</th>\n",
              "      <th>COP_Salary</th>\n",
              "      <th>COP_Comp</th>\n",
              "      <th>COP_Tot</th>\n",
              "    </tr>\n",
              "  </thead>\n",
              "  <tbody>\n",
              "    <tr>\n",
              "      <th>0</th>\n",
              "      <td>4/27/2021 11:02:10</td>\n",
              "      <td>25-34</td>\n",
              "      <td>Education (Higher Education)</td>\n",
              "      <td>Research and Instruction Librarian</td>\n",
              "      <td>55000.0</td>\n",
              "      <td>0.0</td>\n",
              "      <td>USD</td>\n",
              "      <td>NaN</td>\n",
              "      <td>United States</td>\n",
              "      <td>Massachusetts</td>\n",
              "      <td>Boston</td>\n",
              "      <td>5-7 years</td>\n",
              "      <td>5-7 years</td>\n",
              "      <td>Master's degree</td>\n",
              "      <td>Woman</td>\n",
              "      <td>White</td>\n",
              "      <td>4121.715920</td>\n",
              "      <td>2.266944e+08</td>\n",
              "      <td>0.000000e+00</td>\n",
              "      <td>2.266944e+08</td>\n",
              "    </tr>\n",
              "    <tr>\n",
              "      <th>1</th>\n",
              "      <td>4/27/2021 11:02:22</td>\n",
              "      <td>25-34</td>\n",
              "      <td>Computing or Tech</td>\n",
              "      <td>Change &amp; Internal Communications Manager</td>\n",
              "      <td>54600.0</td>\n",
              "      <td>4000.0</td>\n",
              "      <td>GBP</td>\n",
              "      <td>NaN</td>\n",
              "      <td>United Kingdom</td>\n",
              "      <td>NaN</td>\n",
              "      <td>Cambridge</td>\n",
              "      <td>8 - 10 years</td>\n",
              "      <td>5-7 years</td>\n",
              "      <td>College degree</td>\n",
              "      <td>Non-binary</td>\n",
              "      <td>White</td>\n",
              "      <td>5113.092139</td>\n",
              "      <td>2.791748e+08</td>\n",
              "      <td>2.045237e+07</td>\n",
              "      <td>2.996272e+08</td>\n",
              "    </tr>\n",
              "    <tr>\n",
              "      <th>2</th>\n",
              "      <td>4/27/2021 11:02:38</td>\n",
              "      <td>25-34</td>\n",
              "      <td>Accounting, Banking &amp; Finance</td>\n",
              "      <td>Marketing Specialist</td>\n",
              "      <td>34000.0</td>\n",
              "      <td>NaN</td>\n",
              "      <td>USD</td>\n",
              "      <td>NaN</td>\n",
              "      <td>United States</td>\n",
              "      <td>Tennessee</td>\n",
              "      <td>Chattanooga</td>\n",
              "      <td>2 - 4 years</td>\n",
              "      <td>2 - 4 years</td>\n",
              "      <td>College degree</td>\n",
              "      <td>Woman</td>\n",
              "      <td>White</td>\n",
              "      <td>4121.715920</td>\n",
              "      <td>1.401383e+08</td>\n",
              "      <td>NaN</td>\n",
              "      <td>1.401383e+08</td>\n",
              "    </tr>\n",
              "    <tr>\n",
              "      <th>3</th>\n",
              "      <td>4/27/2021 11:02:41</td>\n",
              "      <td>25-34</td>\n",
              "      <td>Nonprofits</td>\n",
              "      <td>Program Manager</td>\n",
              "      <td>62000.0</td>\n",
              "      <td>3000.0</td>\n",
              "      <td>USD</td>\n",
              "      <td>NaN</td>\n",
              "      <td>United States</td>\n",
              "      <td>Wisconsin</td>\n",
              "      <td>Milwaukee</td>\n",
              "      <td>8 - 10 years</td>\n",
              "      <td>5-7 years</td>\n",
              "      <td>College degree</td>\n",
              "      <td>Woman</td>\n",
              "      <td>White</td>\n",
              "      <td>4121.715920</td>\n",
              "      <td>2.555464e+08</td>\n",
              "      <td>1.236515e+07</td>\n",
              "      <td>2.679115e+08</td>\n",
              "    </tr>\n",
              "    <tr>\n",
              "      <th>4</th>\n",
              "      <td>4/27/2021 11:02:42</td>\n",
              "      <td>25-34</td>\n",
              "      <td>Accounting, Banking &amp; Finance</td>\n",
              "      <td>Accounting Manager</td>\n",
              "      <td>60000.0</td>\n",
              "      <td>7000.0</td>\n",
              "      <td>USD</td>\n",
              "      <td>NaN</td>\n",
              "      <td>United States</td>\n",
              "      <td>South Carolina</td>\n",
              "      <td>Greenville</td>\n",
              "      <td>8 - 10 years</td>\n",
              "      <td>5-7 years</td>\n",
              "      <td>College degree</td>\n",
              "      <td>Woman</td>\n",
              "      <td>White</td>\n",
              "      <td>4121.715920</td>\n",
              "      <td>2.473030e+08</td>\n",
              "      <td>2.885201e+07</td>\n",
              "      <td>2.761550e+08</td>\n",
              "    </tr>\n",
              "  </tbody>\n",
              "</table>\n",
              "</div>"
            ],
            "text/plain": [
              "            Timestamp    Age                       Industry  \\\n",
              "0  4/27/2021 11:02:10  25-34   Education (Higher Education)   \n",
              "1  4/27/2021 11:02:22  25-34              Computing or Tech   \n",
              "2  4/27/2021 11:02:38  25-34  Accounting, Banking & Finance   \n",
              "3  4/27/2021 11:02:41  25-34                     Nonprofits   \n",
              "4  4/27/2021 11:02:42  25-34  Accounting, Banking & Finance   \n",
              "\n",
              "                                      Title   Salary  Add_Comp Currency  \\\n",
              "0        Research and Instruction Librarian  55000.0       0.0      USD   \n",
              "1  Change & Internal Communications Manager  54600.0    4000.0      GBP   \n",
              "2                      Marketing Specialist  34000.0       NaN      USD   \n",
              "3                           Program Manager  62000.0    3000.0      USD   \n",
              "4                        Accounting Manager  60000.0    7000.0      USD   \n",
              "\n",
              "  Other_Currency         Country           State         City  \\\n",
              "0            NaN   United States   Massachusetts       Boston   \n",
              "1            NaN  United Kingdom             NaN    Cambridge   \n",
              "2            NaN   United States       Tennessee  Chattanooga   \n",
              "3            NaN   United States       Wisconsin    Milwaukee   \n",
              "4            NaN   United States  South Carolina   Greenville   \n",
              "\n",
              "  Experience_OvAll Experience_Field        Education      Gender   Race  \\\n",
              "0        5-7 years        5-7 years  Master's degree       Woman  White   \n",
              "1     8 - 10 years        5-7 years   College degree  Non-binary  White   \n",
              "2      2 - 4 years      2 - 4 years   College degree       Woman  White   \n",
              "3     8 - 10 years        5-7 years   College degree       Woman  White   \n",
              "4     8 - 10 years        5-7 years   College degree       Woman  White   \n",
              "\n",
              "       EXC/COP    COP_Salary      COP_Comp       COP_Tot  \n",
              "0  4121.715920  2.266944e+08  0.000000e+00  2.266944e+08  \n",
              "1  5113.092139  2.791748e+08  2.045237e+07  2.996272e+08  \n",
              "2  4121.715920  1.401383e+08           NaN  1.401383e+08  \n",
              "3  4121.715920  2.555464e+08  1.236515e+07  2.679115e+08  \n",
              "4  4121.715920  2.473030e+08  2.885201e+07  2.761550e+08  "
            ]
          },
          "execution_count": 19,
          "metadata": {},
          "output_type": "execute_result"
        }
      ],
      "source": [
        "df_clean.head()"
      ]
    },
    {
      "cell_type": "markdown",
      "metadata": {
        "id": "cqaBohI4xMXF"
      },
      "source": [
        "Exportamos la nueva base como un csv."
      ]
    },
    {
      "cell_type": "code",
      "execution_count": 20,
      "metadata": {
        "id": "yMCw5VouuW_Z"
      },
      "outputs": [],
      "source": [
        "df_clean.to_csv(\"cleaned.csv\",index_label=\"Id\")"
      ]
    }
  ],
  "metadata": {
    "colab": {
      "provenance": []
    },
    "kernelspec": {
      "display_name": "Python 3",
      "name": "python3"
    },
    "language_info": {
      "codemirror_mode": {
        "name": "ipython",
        "version": 3
      },
      "file_extension": ".py",
      "mimetype": "text/x-python",
      "name": "python",
      "nbconvert_exporter": "python",
      "pygments_lexer": "ipython3",
      "version": "3.12.6"
    }
  },
  "nbformat": 4,
  "nbformat_minor": 0
}
